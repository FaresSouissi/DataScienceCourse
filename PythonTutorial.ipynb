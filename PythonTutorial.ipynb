{
  "nbformat": 4,
  "nbformat_minor": 0,
  "metadata": {
    "colab": {
      "provenance": [],
      "authorship_tag": "ABX9TyNA1UYaw5ptKT1j8q+4EQUx",
      "include_colab_link": true
    },
    "kernelspec": {
      "name": "python3",
      "display_name": "Python 3"
    },
    "language_info": {
      "name": "python"
    }
  },
  "cells": [
    {
      "cell_type": "markdown",
      "metadata": {
        "id": "view-in-github",
        "colab_type": "text"
      },
      "source": [
        "<a href=\"https://colab.research.google.com/github/FaresSouissi/DataScienceCourse/blob/master/PythonTutorial.ipynb\" target=\"_parent\"><img src=\"https://colab.research.google.com/assets/colab-badge.svg\" alt=\"Open In Colab\"/></a>"
      ]
    },
    {
      "cell_type": "markdown",
      "source": [
        "### Python tutorial"
      ],
      "metadata": {
        "id": "_JpkaF3UYiEf"
      }
    },
    {
      "cell_type": "code",
      "source": [
        "# This is my first Python program.\n",
        "# This will print 'Hello, World!' as the output\n",
        "\n",
        "print (\"Hello, World!\");"
      ],
      "metadata": {
        "colab": {
          "base_uri": "https://localhost:8080/"
        },
        "id": "U0UN5EZKYp8w",
        "outputId": "0456cff1-e544-4c23-c0c7-69cff208b4e6"
      },
      "execution_count": 1,
      "outputs": [
        {
          "output_type": "stream",
          "name": "stdout",
          "text": [
            "Hello, World!\n"
          ]
        }
      ]
    },
    {
      "cell_type": "code",
      "source": [
        "if True :\n",
        "  print(\"True\")\n",
        "else :\n",
        "  print(\"False\")"
      ],
      "metadata": {
        "colab": {
          "base_uri": "https://localhost:8080/"
        },
        "id": "ri-d6NcmY_MU",
        "outputId": "5a888903-51ef-4742-a9d0-49e8abbdfdcc"
      },
      "execution_count": 2,
      "outputs": [
        {
          "output_type": "stream",
          "name": "stdout",
          "text": [
            "True\n"
          ]
        }
      ]
    },
    {
      "cell_type": "code",
      "source": [
        "if True:\n",
        "  print (\"Answer\")\n",
        "  print (\"True\")\n",
        "else:\n",
        "  print (\"Answer\")\n",
        "  print (\"False\")"
      ],
      "metadata": {
        "colab": {
          "base_uri": "https://localhost:8080/"
        },
        "id": "dinAd-Owaqpx",
        "outputId": "d8f08a84-f368-4c93-bc0c-e61e6a75da27"
      },
      "execution_count": 4,
      "outputs": [
        {
          "output_type": "stream",
          "name": "stdout",
          "text": [
            "Answer\n",
            "True\n"
          ]
        }
      ]
    },
    {
      "cell_type": "code",
      "source": [
        "days = [\"Monday\", \"Tuesday\",\"Wednesday\",\"Thursday\",\"Friday\"]\n",
        "word =\"word\"\n",
        "sentence =\"This is a sentence\"\n",
        "paragraph = \"\"\"This is a paragraph\n",
        "written in two lines\"\"\""
      ],
      "metadata": {
        "id": "pxRiUJ7ca2sW"
      },
      "execution_count": 15,
      "outputs": []
    },
    {
      "cell_type": "code",
      "source": [
        "print(days)\n",
        "print(type(days))"
      ],
      "metadata": {
        "colab": {
          "base_uri": "https://localhost:8080/"
        },
        "id": "s0AZFnHBdp-o",
        "outputId": "4e18c6f5-67c0-4ab0-d1f0-c162b1916b28"
      },
      "execution_count": 11,
      "outputs": [
        {
          "output_type": "stream",
          "name": "stdout",
          "text": [
            "['Monday', 'Tuesday', 'Wednesday', 'Thursday', 'Friday']\n",
            "<class 'list'>\n"
          ]
        }
      ]
    },
    {
      "cell_type": "code",
      "source": [
        "print(word)"
      ],
      "metadata": {
        "colab": {
          "base_uri": "https://localhost:8080/"
        },
        "id": "9AYJuQordx_y",
        "outputId": "f9c1dda8-b433-4d4a-8f23-e9568775c1dd"
      },
      "execution_count": 12,
      "outputs": [
        {
          "output_type": "stream",
          "name": "stdout",
          "text": [
            "word\n"
          ]
        }
      ]
    },
    {
      "cell_type": "code",
      "source": [
        "print(sentence)"
      ],
      "metadata": {
        "colab": {
          "base_uri": "https://localhost:8080/"
        },
        "id": "J-loSdald2Dw",
        "outputId": "d7df6319-19f6-4f48-9c29-01fccff13f7c"
      },
      "execution_count": 13,
      "outputs": [
        {
          "output_type": "stream",
          "name": "stdout",
          "text": [
            "This is a sentence\n"
          ]
        }
      ]
    },
    {
      "cell_type": "code",
      "source": [
        "print(paragraph)"
      ],
      "metadata": {
        "colab": {
          "base_uri": "https://localhost:8080/"
        },
        "id": "W0frefuqd6PX",
        "outputId": "b856af6c-6b5d-4de5-94e8-06a52ee1d46d"
      },
      "execution_count": 16,
      "outputs": [
        {
          "output_type": "stream",
          "name": "stdout",
          "text": [
            "This is a paragraph\n",
            "written in two lines\n"
          ]
        }
      ]
    },
    {
      "cell_type": "code",
      "source": [
        "#!/usr/bin/python\n",
        "\n",
        "input(\"\\n\\nEnter the input \")"
      ],
      "metadata": {
        "colab": {
          "base_uri": "https://localhost:8080/",
          "height": 87
        },
        "id": "FuYgGpO-eBD0",
        "outputId": "dae9d2e2-79fa-4fa5-e016-877e0fd2eebb"
      },
      "execution_count": 20,
      "outputs": [
        {
          "name": "stdout",
          "output_type": "stream",
          "text": [
            "\n",
            "\n",
            "Enter the input 8\n"
          ]
        },
        {
          "output_type": "execute_result",
          "data": {
            "text/plain": [
              "'8'"
            ],
            "application/vnd.google.colaboratory.intrinsic+json": {
              "type": "string"
            }
          },
          "metadata": {},
          "execution_count": 20
        }
      ]
    },
    {
      "cell_type": "code",
      "source": [
        "import sys\n",
        "word = \"foo\"\n",
        "sys.stdout.write(word + '\\n')\n",
        "print(word + '\\n')"
      ],
      "metadata": {
        "colab": {
          "base_uri": "https://localhost:8080/"
        },
        "id": "9rGbefhoew_F",
        "outputId": "183cbd0e-4ce1-43c1-f9ce-ad340cd9011b"
      },
      "execution_count": 23,
      "outputs": [
        {
          "output_type": "stream",
          "name": "stdout",
          "text": [
            "foo\n",
            "foo\n",
            "\n"
          ]
        }
      ]
    },
    {
      "cell_type": "code",
      "source": [
        "condition = input(\"Enter a number : \\n\")"
      ],
      "metadata": {
        "colab": {
          "base_uri": "https://localhost:8080/"
        },
        "id": "BWYJvc0efYsB",
        "outputId": "4a2605e1-5c8c-40bd-ac1f-1781d0e3f0e8"
      },
      "execution_count": 28,
      "outputs": [
        {
          "name": "stdout",
          "output_type": "stream",
          "text": [
            "Enter a number : \n",
            "10\n"
          ]
        }
      ]
    },
    {
      "cell_type": "code",
      "source": [
        "if condition == \"1\":\n",
        "  print(condition)\n",
        "elif condition == \"8\":\n",
        "  print(condition+condition)\n",
        "else:\n",
        "  print(\"autre\")"
      ],
      "metadata": {
        "colab": {
          "base_uri": "https://localhost:8080/"
        },
        "id": "HsE4K1tufiNM",
        "outputId": "2db652e2-dd21-4279-bad7-791e978319f1"
      },
      "execution_count": 29,
      "outputs": [
        {
          "output_type": "stream",
          "name": "stdout",
          "text": [
            "autre\n"
          ]
        }
      ]
    },
    {
      "cell_type": "code",
      "source": [
        "def add(a,b):\n",
        "  \"\"\"Function to add the value of a and b\"\"\"\n",
        "  return a+b\n",
        "\n",
        "print(add.__doc__)\n",
        "print(\"the somme is\", add(4,5))"
      ],
      "metadata": {
        "colab": {
          "base_uri": "https://localhost:8080/"
        },
        "id": "ZfhlxlaPgAW5",
        "outputId": "b193fd24-2665-481e-bb8b-9821c7547d98"
      },
      "execution_count": 33,
      "outputs": [
        {
          "output_type": "stream",
          "name": "stdout",
          "text": [
            "Function to add the value of a and b\n",
            "the somme is 9\n"
          ]
        }
      ]
    },
    {
      "cell_type": "code",
      "source": [
        "counter = 100\n",
        "print(counter)\n",
        "\n",
        "del counter\n",
        "print(counter)"
      ],
      "metadata": {
        "colab": {
          "base_uri": "https://localhost:8080/",
          "height": 218
        },
        "id": "fiLu2-bDhGS_",
        "outputId": "ef2b16ac-07b8-4d03-a852-bfe76e66d696"
      },
      "execution_count": 35,
      "outputs": [
        {
          "output_type": "stream",
          "name": "stdout",
          "text": [
            "100\n"
          ]
        },
        {
          "output_type": "error",
          "ename": "NameError",
          "evalue": "ignored",
          "traceback": [
            "\u001b[0;31m---------------------------------------------------------------------------\u001b[0m",
            "\u001b[0;31mNameError\u001b[0m                                 Traceback (most recent call last)",
            "\u001b[0;32m<ipython-input-35-12a73e3d2d5e>\u001b[0m in \u001b[0;36m<module>\u001b[0;34m\u001b[0m\n\u001b[1;32m      3\u001b[0m \u001b[0;34m\u001b[0m\u001b[0m\n\u001b[1;32m      4\u001b[0m \u001b[0;32mdel\u001b[0m \u001b[0mcounter\u001b[0m\u001b[0;34m\u001b[0m\u001b[0;34m\u001b[0m\u001b[0m\n\u001b[0;32m----> 5\u001b[0;31m \u001b[0mprint\u001b[0m\u001b[0;34m(\u001b[0m\u001b[0mcounter\u001b[0m\u001b[0;34m)\u001b[0m\u001b[0;34m\u001b[0m\u001b[0;34m\u001b[0m\u001b[0m\n\u001b[0m",
            "\u001b[0;31mNameError\u001b[0m: name 'counter' is not defined"
          ]
        }
      ]
    },
    {
      "cell_type": "code",
      "source": [
        "a,b,c = 1,2,\"a\"\n",
        "print(a)\n",
        "print(b)\n",
        "print(c)"
      ],
      "metadata": {
        "colab": {
          "base_uri": "https://localhost:8080/"
        },
        "id": "JqY5AmqPhrTk",
        "outputId": "9564cd7e-a9bb-44f3-849e-50cad987b863"
      },
      "execution_count": 37,
      "outputs": [
        {
          "output_type": "stream",
          "name": "stdout",
          "text": [
            "1\n",
            "2\n",
            "a\n"
          ]
        }
      ]
    },
    {
      "cell_type": "code",
      "source": [
        "#Local variable\n",
        "def add (a,b):\n",
        "  return a+b\n",
        "print(add(4,5))"
      ],
      "metadata": {
        "colab": {
          "base_uri": "https://localhost:8080/"
        },
        "id": "DuZrRzayiBCL",
        "outputId": "3a14aad9-b28e-4258-be05-5e2788552cc2"
      },
      "execution_count": 39,
      "outputs": [
        {
          "output_type": "stream",
          "name": "stdout",
          "text": [
            "9\n"
          ]
        }
      ]
    },
    {
      "cell_type": "code",
      "source": [
        "#Global variable\n",
        "a=3\n",
        "b=4\n",
        "def add():\n",
        "  sum = a+b\n",
        "  return sum\n",
        "\n",
        "print(add())"
      ],
      "metadata": {
        "colab": {
          "base_uri": "https://localhost:8080/"
        },
        "id": "lCXdA_nIig5n",
        "outputId": "af65676a-3503-4312-9070-be427c6779be"
      },
      "execution_count": 41,
      "outputs": [
        {
          "output_type": "stream",
          "name": "stdout",
          "text": [
            "7\n"
          ]
        }
      ]
    },
    {
      "cell_type": "code",
      "source": [
        "a = 100\n",
        "b = 2.5\n",
        "c = 2 + 3j\n",
        "\n",
        "print(\"the data type of \",a,\"is \", type(a))\n",
        "print(\"the data type of \",b,\"is \", type(b))\n",
        "print(\"the data type of \",c,\"is \", type(c))"
      ],
      "metadata": {
        "colab": {
          "base_uri": "https://localhost:8080/"
        },
        "id": "MG1LxYepkPBk",
        "outputId": "c5095415-44cf-4c0f-9843-28feb205ed14"
      },
      "execution_count": 44,
      "outputs": [
        {
          "output_type": "stream",
          "name": "stdout",
          "text": [
            "the data type of  100 is  <class 'int'>\n",
            "the data type of  2.5 is  <class 'float'>\n",
            "the data type of  (2+3j) is  <class 'complex'>\n"
          ]
        }
      ]
    },
    {
      "cell_type": "code",
      "source": [
        "str =\"Hello world\"\n",
        "\n",
        "print(str)\n",
        "print(str[0])\n",
        "print(str[2:5])\n",
        "print(str[2:])\n",
        "print(str*2)\n",
        "print(str + \" TEST\")"
      ],
      "metadata": {
        "colab": {
          "base_uri": "https://localhost:8080/"
        },
        "id": "CoC-8cXkkw_H",
        "outputId": "59cbe9f9-a2c3-4d52-fc72-04ee594298b1"
      },
      "execution_count": 48,
      "outputs": [
        {
          "output_type": "stream",
          "name": "stdout",
          "text": [
            "Hello world\n",
            "H\n",
            "llo\n",
            "llo world\n",
            "Hello worldHello world\n",
            "Hello world TEST\n"
          ]
        }
      ]
    },
    {
      "cell_type": "code",
      "source": [
        "list = [2, \"John\", 1.1,4]\n",
        "tinylist =[\"Doe\", 3]\n",
        "\n",
        "print(list)\n",
        "print(list[0])\n",
        "print(list[1:3])\n",
        "print(tinylist*2)\n",
        "print(list + tinylist)\n",
        "print(list[1][0])"
      ],
      "metadata": {
        "colab": {
          "base_uri": "https://localhost:8080/"
        },
        "id": "knhj4f5UlTLW",
        "outputId": "1ec51de7-f799-474e-ad15-a956dc8f978f"
      },
      "execution_count": 55,
      "outputs": [
        {
          "output_type": "stream",
          "name": "stdout",
          "text": [
            "[2, 'John', 1.1, 4]\n",
            "2\n",
            "['John', 1.1]\n",
            "['Doe', 3, 'Doe', 3]\n",
            "[2, 'John', 1.1, 4, 'Doe', 3]\n",
            "J\n"
          ]
        }
      ]
    }
  ]
}